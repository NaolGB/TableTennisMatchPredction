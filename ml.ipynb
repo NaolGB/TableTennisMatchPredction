{
 "cells": [
  {
   "cell_type": "code",
   "execution_count": 19,
   "metadata": {},
   "outputs": [],
   "source": [
    "import pandas as pd\n",
    "import numpy as np\n",
    "from sklearn import tree\n",
    "from sklearn.model_selection import train_test_split\n",
    "from sklearn import metrics\n",
    "import tensorflow as tf"
   ]
  },
  {
   "cell_type": "code",
   "execution_count": 20,
   "metadata": {},
   "outputs": [
    {
     "name": "stderr",
     "output_type": "stream",
     "text": [
      "/var/folders/zl/1tvb16z55nl5z3qjjlv168lr0000gn/T/ipykernel_11500/2134856044.py:1: DtypeWarning: Columns (13,21) have mixed types. Specify dtype option on import or set low_memory=False.\n",
      "  fem_merged_sums = pd.read_csv(\"./data/merged_fem_sums_dataset.csv\")\n"
     ]
    }
   ],
   "source": [
    "fem_merged_sums = pd.read_csv(\"./data/merged_fem_sums_dataset.csv\")"
   ]
  },
  {
   "cell_type": "code",
   "execution_count": 21,
   "metadata": {},
   "outputs": [],
   "source": [
    "fem_merged_sums.drop(columns=[\n",
    "       'Unnamed: 0.1', 'Unnamed: 0',\n",
    "       'player_a_id', 'assoc_a', 'name_a', 'player_x_id', 'assoc_x', 'name_x',\n",
    "       'winner_dbl', 'winner_dbl_names','private_key_a', 'private_key_x'\n",
    "       ], inplace=True)\n"
   ]
  },
  {
   "cell_type": "code",
   "execution_count": 22,
   "metadata": {},
   "outputs": [],
   "source": [
    "y = fem_merged_sums['winner_bool'].map({True:1, False:0})"
   ]
  },
  {
   "cell_type": "code",
   "execution_count": 23,
   "metadata": {},
   "outputs": [],
   "source": [
    "#y = fem_merged_sums['winner_bool']\n",
    "\n",
    "X = fem_merged_sums.drop(columns=[#'winner', 'winner_namer', 'winner_bool', 'player_id_a', 'name_x', 'player_id_x', 'name_x',\n",
    "                             'g1a', 'g1x', 'g2a', 'g2x',\n",
    "       'g3a', 'g3x', 'g4a', 'g4x', 'g5a', 'g5x', 'g6a', 'g6x', 'g7a', 'g7x'])\n",
    "X.drop(columns=['inj', 'points_a', 'points_x', 'wo', 'name_x.1', 'name_a.1', 'res_a','res_x', 'gender_a', 'gender_x','tournament_id', 'group','winner', 'winner_namer','winner_bool','player_id_a','player_id_x', 'style_x', 'grip_x', 'style_a', 'grip_a','team_match', 'handness_a', 'handness_x'], inplace=True)"
   ]
  },
  {
   "cell_type": "code",
   "execution_count": 24,
   "metadata": {},
   "outputs": [],
   "source": [
    "event_map = {'WS' : 0, 'U21WS': 1, 'WT': 0, 'JGT': 2, 'CGS': 3, 'JGS': 2, 'CGT': 3, 'JGD': 2, 'YOGT': 4,\n",
    "       'XT': 0, 'WT_U21': 1, 'U21WT': 1, 'U19WT': 2, 'U19WS': 2, 'U17WS': 2, 'CBS': 3, 'MCGS': 5,\n",
    "       'WD': 0, 'U15WT': 3, 'HGS': 0, 'JBT':2, 'U19GS':2, 'CGD':2, 'U15WS':2, 'MT':0,\n",
    "       'U13WS':4, 'U11WS':5}\n",
    "\n",
    "# use the map method to replace the color column with integers\n",
    "X['event'] = X['event'].map(event_map)"
   ]
  },
  {
   "cell_type": "code",
   "execution_count": 25,
   "metadata": {},
   "outputs": [],
   "source": [
    "X['stage'].unique()\n",
    "\n",
    "stage_map = {'Main Draw' : 2, 'Qualification': 1, 'Pre. Round': 1, 'Preliminary': 1,\n",
    "       'Consolation': 3, 'Qualification - 2nd Stage': 1, 'Main Draw - Day 1': 2,\n",
    "       'Qualification - Division 2': 1, 'Main Draw - Division 2': 2, pd.NA:0,\n",
    "       'Position matches - Division 1': 2, 'Qualification - Division 1': 1,\n",
    "       'Position Draw': 2, 'Qualification - Division 3': 1,\n",
    "       'Main Draw - Division 1': 2, 'Position matches - Division 3': 2,\n",
    "       'Position matches 69- Division 3':2, 'Main Draw - Division 3':2,\n",
    "       'Main Draw - Stage 2':2, 'Main Draw - Stage 2 (Bronze Match)':2,\n",
    "       'Position matches 57-60 - Division 3':2, 'Main Draw C': 2,\n",
    "       'Main Draw B': 2, 'Position matches - Division 2': 2,\n",
    "       'Main Draw - Day 2': 2, 'Main Draw A': 2,\n",
    "       'Main Draw - Stage 2 (5-8th place)': 2,\n",
    "       'Position matches 61-64 - Division 3': 2, 'MAIN': 2, 'GROUPS': 1,\n",
    "       'Main Draw - Stage 1': 2, 'MAIN|5|8': 2,\n",
    "       'Main Draw - Stage 2 (5th place)': 2,\n",
    "       'Main Draw - Stage 2 (7th place)': 2}\n",
    "\n",
    "X['stage'] = X['stage'].map(stage_map)"
   ]
  },
  {
   "cell_type": "code",
   "execution_count": 26,
   "metadata": {},
   "outputs": [],
   "source": [
    "X['event_type'].unique()\n",
    "\n",
    "event_type_map = {'KO':2, 'Group':1, 'Progressive':3, 'Progressive KO':3, 'GP12':4, pd.NA:0,\n",
    "       'R32-':6, '8FNL':7, 'QFNL':8, 'RND2':6, 'R64-':5, 'RND1':5, 'FNL-':10, 'SFNL':9,\n",
    "       'GP05':4, 'GP03':4, 'GP11':4, 'GP01':4, 'GP06':4, 'GP13':4, 'GP08':4, 'GP02':4,\n",
    "       'GP14':4, 'GP04':4, 'GP10':4, 'GP09':4, 'GP07':4}\n",
    "\n",
    "X['event_type'] = X['event_type'].map(event_type_map)"
   ]
  },
  {
   "cell_type": "code",
   "execution_count": 27,
   "metadata": {},
   "outputs": [
    {
     "name": "stdout",
     "output_type": "stream",
     "text": [
      "{'MEX': 1, 'DJI': 2, 'HUN': 3, 'SAM': 4, 'CAF': 5, 'TPE': 6, 'TUR': 7, 'ANG': 8, 'BRN': 9, 'QAT': 10, 'LTU': 11, 'CHN': 12, 'PHI': 13, 'TAN': 14, 'SVK': 15, 'SOL': 16, 'SGP': 17, 'MAW': 18, 'GRE': 19, 'PLW': 20, 'SEN': 21, 'GUI': 22, 'MDA': 23, 'AZE': 24, 'BOT': 25, 'ESA': 26, 'DEN': 27, 'IRL': 28, 'VEN': 29, 'ENG': 30, 'VAN': 31, 'PNG': 32, 'BOL': 33, 'GRN': 34, 'BAN': 35, 'LCA': 36, 'BRA': 37, 'TOG': 38, 'NRU': 39, 'NED': 40, 'HKG': 41, 'CGO': 42, 'HAI': 43, 'CZE': 44, 'MAF': 45, 'POL': 46, 'CAN': 47, 'IMN': 48, 'COK': 49, 'IND': 50, 'BIZ': 51, 'DOM': 52, 'COL': 53, 'VIE': 54, 'KOS': 55, 'GGY': 56, 'AUS': 57, 'ESP': 58, 'KIR': 59, 'NZL': 60, 'CHA': 61, 'FGU': 62, 'GAB': 63, 'LBR': 64, 'LBA': 65, 'DMA': 66, 'COM': 67, 'MRI': 68, 'CUB': 69, 'NAM': 70, 'BHU': 71, 'NIC': 72, 'SKN': 73, 'LBN': 74, 'USA': 75, 'THA': 76, 'ROU': 77, 'KOR': 78, 'CUW': 79, 'SRB': 80, 'SWE': 81, 'SUR': 82, 'UZB': 83, 'CYP': 84, 'BRU': 85, 'TJK': 86, 'FSM': 87, 'BIH': 88, 'FIN': 89, 'LES': 90, 'TUV': 91, 'SUD': 92, 'UGA': 93, 'GUY': 94, 'MAS': 95, 'MAR': 96, 'KSA': 97, 'ARM': 98, 'ISR': 99, 'JAM': 100, 'NIG': 101, 'ITA': 102, 'TUN': 103, 'UKR': 104, 'JEY': 105, 'CIV': 106, 'PER': 107, 'SEY': 108, 'ERI': 109, 'ALB': 110, 'MLI': 111, 'SCO': 112, 'MDV': 113, 'CRC': 114, 'SYR': 115, 'BUL': 116, 'TKL': 117, 'LUX': 118, 'CHI': 119, 'MAC': 120, 'ZAM': 121, 'NEP': 122, 'NCL': 123, 'MNE': 124, 'URU': 125, 'TKM': 126, 'PYF': 127, 'IRI': 128, 'OMA': 129, 'KAZ': 130, 'MAD': 131, 'BUR': 132, 'BEN': 133, 'RUS': 134, 'CRO': 135, 'RSA': 136, 'GUM': 137, 'COD': 138, 'PLE': 139, 'GHA': 140, 'AFG': 141, 'ISL': 142, 'GEO': 143, 'TTO': 144, 'INA': 145, 'NOR': 146, 'AUT': 147, 'MTN': 148, 'SLO': 149, 'ARU': 150, 'BAR': 151, 'SMR': 152, 'MLT': 153, 'VIN': 154, 'MYA': 155, 'UAE': 156, 'JPN': 157, 'SUI': 158, 'PAK': 159, 'HON': 160, 'KUW': 161, 'MGL': 162, 'PAR': 163, 'ALG': 164, 'WAL': 165, 'EGY': 166, 'LAT': 167, 'MON': 168, 'SRI': 169, 'ETH': 170, 'BDI': 171, 'PRK': 172, 'GER': 173, 'ECU': 174, 'BEL': 175, 'EST': 176, 'ARG': 177, 'KEN': 178, 'PAN': 179, 'RWA': 180, 'FRA': 181, 'BLR': 182, 'IRQ': 183, 'ZIM': 184, 'GUA': 185, 'SLE': 186, 'NGR': 187, 'NCA': 188, 'FIJ': 189, 'TGA': 190, 'FRO': 191, 'KGZ': 192, 'CMR': 193, 'POR': 194, 'CAM': 195, 'MKD': 196, 'LAO': 197, 'PUR': 198, 'JOR': 199}\n"
     ]
    }
   ],
   "source": [
    "ass = X['association_a'].unique().tolist() + X['association_x'].unique().tolist()\n",
    "ass = list(set(ass))\n",
    "association_map = {}\n",
    "for i in range(len(ass)):\n",
    "    association_map[ass[i]] = i+1\n",
    "print(association_map)\n",
    "X['association_a'] = X['association_a'].map(association_map)\n",
    "X['association_x'] = X['association_x'].map(association_map)\n"
   ]
  },
  {
   "cell_type": "code",
   "execution_count": 28,
   "metadata": {},
   "outputs": [],
   "source": [
    "activity_map = {'T': 2, 'F':1}\n",
    "X['activity_a'] = X['activity_a'].map(activity_map)\n",
    "X['activity_x'] = X['activity_x'].map(activity_map)"
   ]
  },
  {
   "cell_type": "code",
   "execution_count": 29,
   "metadata": {},
   "outputs": [],
   "source": [
    "X.fillna(0, inplace=True)\n",
    "X = X.astype({'stage': 'int32', 'age_a':'int32', 'age_x':'int32',\n",
    "              'total_matches_a':'int32','total_wins_a':'int32',\n",
    "              'total_losses_a':'int32', 'year_matches_a':'int32',\n",
    "            'year_wins_a':'int32', 'year_losses_a':'int32',\n",
    "             'total_matches_x':'int32','total_wins_x':'int32',\n",
    "              'total_losses_x':'int32', 'year_matches_x':'int32',\n",
    "            'year_wins_x':'int32', 'year_losses_x':'int32' })"
   ]
  },
  {
   "cell_type": "code",
   "execution_count": 30,
   "metadata": {},
   "outputs": [],
   "source": [
    "np_y = y.to_numpy()"
   ]
  },
  {
   "cell_type": "code",
   "execution_count": 40,
   "metadata": {},
   "outputs": [],
   "source": [
    "np_y_one_hot = tf.one_hot(np_y, 2).numpy()"
   ]
  },
  {
   "cell_type": "code",
   "execution_count": 42,
   "metadata": {},
   "outputs": [],
   "source": [
    "X_train, X_test, y_train, y_test = train_test_split(X, np_y_one_hot, test_size=0.15, random_state=42)"
   ]
  },
  {
   "cell_type": "code",
   "execution_count": 45,
   "metadata": {},
   "outputs": [],
   "source": [
    "model = tf.keras.Sequential([\n",
    "    tf.keras.layers.Dense(8, activation='relu', input_shape=(X_train.shape[1],)),\n",
    "    tf.keras.layers.Dense(2, activation='softmax')\n",
    "])\n",
    "model.compile(optimizer='adam', loss='categorical_crossentropy', metrics=['accuracy'])\n"
   ]
  },
  {
   "cell_type": "code",
   "execution_count": 48,
   "metadata": {},
   "outputs": [
    {
     "name": "stdout",
     "output_type": "stream",
     "text": [
      "Epoch 1/10\n",
      "12359/12365 [============================>.] - ETA: 0s - loss: 31.6377 - accuracy: 0.6503WARNING:tensorflow:Early stopping conditioned on metric `val_loss` which is not available. Available metrics are: loss,accuracy\n",
      "12365/12365 [==============================] - 97s 8ms/step - loss: 31.6315 - accuracy: 0.6503\n",
      "Epoch 2/10\n",
      "12360/12365 [============================>.] - ETA: 0s - loss: 27.5905 - accuracy: 0.6519WARNING:tensorflow:Early stopping conditioned on metric `val_loss` which is not available. Available metrics are: loss,accuracy\n",
      "12365/12365 [==============================] - 97s 8ms/step - loss: 27.5886 - accuracy: 0.6520\n",
      "Epoch 3/10\n",
      "12365/12365 [==============================] - ETA: 0s - loss: 24.9604 - accuracy: 0.6538WARNING:tensorflow:Early stopping conditioned on metric `val_loss` which is not available. Available metrics are: loss,accuracy\n",
      "12365/12365 [==============================] - 97s 8ms/step - loss: 24.9604 - accuracy: 0.6538\n",
      "Epoch 4/10\n",
      "12365/12365 [==============================] - ETA: 0s - loss: 22.4630 - accuracy: 0.6608WARNING:tensorflow:Early stopping conditioned on metric `val_loss` which is not available. Available metrics are: loss,accuracy\n",
      "12365/12365 [==============================] - 97s 8ms/step - loss: 22.4630 - accuracy: 0.6608\n",
      "Epoch 5/10\n",
      "12365/12365 [==============================] - ETA: 0s - loss: 21.2844 - accuracy: 0.6614WARNING:tensorflow:Early stopping conditioned on metric `val_loss` which is not available. Available metrics are: loss,accuracy\n",
      "12365/12365 [==============================] - 97s 8ms/step - loss: 21.2844 - accuracy: 0.6614\n",
      "Epoch 6/10\n",
      "12363/12365 [============================>.] - ETA: 0s - loss: 19.1391 - accuracy: 0.6625WARNING:tensorflow:Early stopping conditioned on metric `val_loss` which is not available. Available metrics are: loss,accuracy\n",
      "12365/12365 [==============================] - 96s 8ms/step - loss: 19.1376 - accuracy: 0.6624\n",
      "Epoch 7/10\n",
      "12362/12365 [============================>.] - ETA: 0s - loss: 16.8834 - accuracy: 0.6657WARNING:tensorflow:Early stopping conditioned on metric `val_loss` which is not available. Available metrics are: loss,accuracy\n",
      "12365/12365 [==============================] - 95s 8ms/step - loss: 16.8846 - accuracy: 0.6657\n",
      "Epoch 8/10\n",
      "12364/12365 [============================>.] - ETA: 0s - loss: 14.9944 - accuracy: 0.6629WARNING:tensorflow:Early stopping conditioned on metric `val_loss` which is not available. Available metrics are: loss,accuracy\n",
      "12365/12365 [==============================] - 96s 8ms/step - loss: 14.9975 - accuracy: 0.6629\n",
      "Epoch 9/10\n",
      "12365/12365 [==============================] - ETA: 0s - loss: 13.0680 - accuracy: 0.6656WARNING:tensorflow:Early stopping conditioned on metric `val_loss` which is not available. Available metrics are: loss,accuracy\n",
      "12365/12365 [==============================] - 99s 8ms/step - loss: 13.0680 - accuracy: 0.6656\n",
      "Epoch 10/10\n",
      "12365/12365 [==============================] - ETA: 0s - loss: 10.6735 - accuracy: 0.6640WARNING:tensorflow:Early stopping conditioned on metric `val_loss` which is not available. Available metrics are: loss,accuracy\n",
      "12365/12365 [==============================] - 99s 8ms/step - loss: 10.6735 - accuracy: 0.6640\n"
     ]
    },
    {
     "data": {
      "text/plain": [
       "<keras.callbacks.History at 0x2c9268f40>"
      ]
     },
     "execution_count": 48,
     "metadata": {},
     "output_type": "execute_result"
    }
   ],
   "source": [
    "callbacks = [tf.keras.callbacks.EarlyStopping(patience=2, restore_best_weights=True)]\n",
    "\n",
    "model.fit(X_train, y_train, epochs=10, callbacks=callbacks)\n"
   ]
  },
  {
   "cell_type": "code",
   "execution_count": null,
   "metadata": {},
   "outputs": [],
   "source": []
  }
 ],
 "metadata": {
  "kernelspec": {
   "display_name": "base",
   "language": "python",
   "name": "python3"
  },
  "language_info": {
   "codemirror_mode": {
    "name": "ipython",
    "version": 3
   },
   "file_extension": ".py",
   "mimetype": "text/x-python",
   "name": "python",
   "nbconvert_exporter": "python",
   "pygments_lexer": "ipython3",
   "version": "3.9.10"
  },
  "orig_nbformat": 4
 },
 "nbformat": 4,
 "nbformat_minor": 2
}
