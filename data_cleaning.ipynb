{
 "cells": [
  {
   "cell_type": "code",
   "execution_count": 1,
   "metadata": {},
   "outputs": [],
   "source": [
    "import pandas as pd"
   ]
  },
  {
   "cell_type": "code",
   "execution_count": 2,
   "metadata": {},
   "outputs": [
    {
     "name": "stderr",
     "output_type": "stream",
     "text": [
      "/var/folders/zl/1tvb16z55nl5z3qjjlv168lr0000gn/T/ipykernel_88444/2801036144.py:1: DtypeWarning: Columns (18) have mixed types. Specify dtype option on import or set low_memory=False.\n",
      "  df = pd.read_csv('data/all_matches.csv')\n"
     ]
    }
   ],
   "source": [
    "df = pd.read_csv('data/all_matches.csv')"
   ]
  },
  {
   "cell_type": "code",
   "execution_count": 3,
   "metadata": {},
   "outputs": [],
   "source": [
    "df.drop('Unnamed: 0', axis=1, inplace=True)"
   ]
  },
  {
   "cell_type": "code",
   "execution_count": 4,
   "metadata": {},
   "outputs": [
    {
     "data": {
      "text/plain": [
       "607425"
      ]
     },
     "execution_count": 4,
     "metadata": {},
     "output_type": "execute_result"
    }
   ],
   "source": [
    "len(df)"
   ]
  },
  {
   "cell_type": "code",
   "execution_count": 5,
   "metadata": {},
   "outputs": [],
   "source": [
    "cols = list(df.columns)"
   ]
  },
  {
   "cell_type": "code",
   "execution_count": 6,
   "metadata": {},
   "outputs": [],
   "source": [
    "for i in range(len(df)):\n",
    "    if (not pd.isna(df.loc[i, cols[4]])) and df.loc[i, cols[4]].startswith(' ()'):\n",
    "        df.drop(index=i, inplace=True)\n",
    "df.reset_index(drop=True, inplace=True)\n",
    "\n",
    "for i in range(len(df)):\n",
    "    if (not pd.isna(df.loc[i, cols[7]])) and df.loc[i, cols[7]].startswith(' ()'):\n",
    "        df.drop(index=i, inplace=True)\n",
    "df.reset_index(drop=True, inplace=True)\n",
    "\n",
    "for i in range(len(df)):\n",
    "    if (not pd.isna(df.loc[i, cols[10]])) and df.loc[i, cols[10]].startswith(' ()'):\n",
    "        df.drop(index=i, inplace=True)\n",
    "df.reset_index(drop=True, inplace=True)\n",
    "\n",
    "for i in range(len(df)):\n",
    "    if (not pd.isna(df.loc[i, cols[13]])) and df.loc[i, cols[13]].startswith(' ('):\n",
    "        df.drop(index=i, inplace=True)\n",
    "df.reset_index(drop=True, inplace=True)\n",
    "    "
   ]
  },
  {
   "cell_type": "code",
   "execution_count": 7,
   "metadata": {},
   "outputs": [
    {
     "data": {
      "text/plain": [
       "607166"
      ]
     },
     "execution_count": 7,
     "metadata": {},
     "output_type": "execute_result"
    }
   ],
   "source": [
    "len(df)"
   ]
  },
  {
   "cell_type": "code",
   "execution_count": 8,
   "metadata": {},
   "outputs": [],
   "source": [
    "df.to_csv('data/all_matches_clean.csv', index=False)"
   ]
  },
  {
   "cell_type": "code",
   "execution_count": null,
   "metadata": {},
   "outputs": [],
   "source": []
  }
 ],
 "metadata": {
  "kernelspec": {
   "display_name": "MLEnv",
   "language": "python",
   "name": "mlenv"
  },
  "language_info": {
   "codemirror_mode": {
    "name": "ipython",
    "version": 3
   },
   "file_extension": ".py",
   "mimetype": "text/x-python",
   "name": "python",
   "nbconvert_exporter": "python",
   "pygments_lexer": "ipython3",
   "version": "3.8.13"
  },
  "orig_nbformat": 4
 },
 "nbformat": 4,
 "nbformat_minor": 2
}
