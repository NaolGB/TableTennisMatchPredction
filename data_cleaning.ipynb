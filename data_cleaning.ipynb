{
 "cells": [
  {
   "cell_type": "code",
   "execution_count": 1,
   "metadata": {},
   "outputs": [],
   "source": [
    "import pandas as pd\n",
    "import warnings"
   ]
  },
  {
   "cell_type": "code",
   "execution_count": 5,
   "metadata": {},
   "outputs": [],
   "source": [
    "warnings.filterwarnings(\"ignore\")"
   ]
  },
  {
   "cell_type": "code",
   "execution_count": 6,
   "metadata": {},
   "outputs": [],
   "source": [
    "df = pd.read_csv('data/all_matches.csv')"
   ]
  },
  {
   "cell_type": "code",
   "execution_count": 7,
   "metadata": {},
   "outputs": [],
   "source": [
    "df.drop('Unnamed: 0', axis=1, inplace=True)\n",
    "cols = list(df.columns)"
   ]
  },
  {
   "cell_type": "code",
   "execution_count": 8,
   "metadata": {},
   "outputs": [],
   "source": [
    "for i in range(len(df)):\n",
    "    if (not pd.isna(df.loc[i, cols[4]])) and df.loc[i, cols[4]].startswith(' ()'):\n",
    "        df.drop(index=i, inplace=True)\n",
    "df.reset_index(drop=True, inplace=True)\n",
    "\n",
    "for i in range(len(df)):\n",
    "    if (not pd.isna(df.loc[i, cols[7]])) and df.loc[i, cols[7]].startswith(' ()'):\n",
    "        df.drop(index=i, inplace=True)\n",
    "df.reset_index(drop=True, inplace=True)\n",
    "\n",
    "for i in range(len(df)):\n",
    "    if (not pd.isna(df.loc[i, cols[10]])) and df.loc[i, cols[10]].startswith(' ()'):\n",
    "        df.drop(index=i, inplace=True)\n",
    "df.reset_index(drop=True, inplace=True)\n",
    "\n",
    "for i in range(len(df)):\n",
    "    if (not pd.isna(df.loc[i, cols[13]])) and df.loc[i, cols[13]].startswith(' ('):\n",
    "        df.drop(index=i, inplace=True)\n",
    "df.reset_index(drop=True, inplace=True)\n",
    "    "
   ]
  },
  {
   "cell_type": "code",
   "execution_count": 9,
   "metadata": {},
   "outputs": [],
   "source": [
    "df.to_csv('data/all_matches_clean.csv', index=False)"
   ]
  },
  {
   "cell_type": "code",
   "execution_count": null,
   "metadata": {},
   "outputs": [],
   "source": []
  }
 ],
 "metadata": {
  "kernelspec": {
   "display_name": "base",
   "language": "python",
   "name": "python3"
  },
  "language_info": {
   "codemirror_mode": {
    "name": "ipython",
    "version": 3
   },
   "file_extension": ".py",
   "mimetype": "text/x-python",
   "name": "python",
   "nbconvert_exporter": "python",
   "pygments_lexer": "ipython3",
   "version": "3.9.10"
  },
  "orig_nbformat": 4
 },
 "nbformat": 4,
 "nbformat_minor": 2
}
